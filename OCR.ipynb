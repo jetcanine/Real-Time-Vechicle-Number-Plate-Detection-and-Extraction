{
 "cells": [
  {
   "cell_type": "code",
   "execution_count": 2,
   "id": "7735bd26-a961-49f3-8cf0-680c69af9f7d",
   "metadata": {},
   "outputs": [
    {
     "name": "stdout",
     "output_type": "stream",
     "text": [
      "Collecting easyocr\n",
      "  Using cached easyocr-1.7.1-py3-none-any.whl (2.9 MB)\n",
      "Collecting python-bidi\n",
      "  Using cached python_bidi-0.4.2-py2.py3-none-any.whl (30 kB)\n",
      "Collecting Pillow\n",
      "  Using cached Pillow-10.0.1-cp310-cp310-win_amd64.whl (2.5 MB)\n",
      "Collecting Shapely\n",
      "  Using cached shapely-2.0.1-cp310-cp310-win_amd64.whl (1.4 MB)\n",
      "Collecting ninja\n",
      "  Using cached ninja-1.11.1-py2.py3-none-win_amd64.whl (313 kB)\n",
      "Collecting torch\n",
      "  Using cached torch-2.1.0-cp310-cp310-win_amd64.whl (192.3 MB)\n",
      "Collecting opencv-python-headless\n",
      "  Using cached opencv_python_headless-4.8.1.78-cp37-abi3-win_amd64.whl (38.0 MB)\n",
      "Requirement already satisfied: numpy in c:\\python310\\lib\\site-packages (from easyocr) (1.26.0)\n",
      "Collecting pyclipper\n",
      "  Using cached pyclipper-1.3.0.post5-cp310-cp310-win_amd64.whl (108 kB)\n",
      "Collecting scipy\n",
      "  Using cached scipy-1.11.3-cp310-cp310-win_amd64.whl (44.1 MB)\n",
      "Collecting torchvision>=0.5\n",
      "  Using cached torchvision-0.16.0-cp310-cp310-win_amd64.whl (1.3 MB)\n",
      "Collecting scikit-image\n",
      "  Using cached scikit_image-0.22.0-cp310-cp310-win_amd64.whl (24.5 MB)\n",
      "Requirement already satisfied: PyYAML in c:\\python310\\lib\\site-packages (from easyocr) (6.0.1)\n",
      "Requirement already satisfied: requests in c:\\python310\\lib\\site-packages (from torchvision>=0.5->easyocr) (2.31.0)\n",
      "Collecting fsspec\n",
      "  Using cached fsspec-2023.9.2-py3-none-any.whl (173 kB)\n",
      "Collecting networkx\n",
      "  Using cached networkx-3.1-py3-none-any.whl (2.1 MB)\n",
      "Collecting filelock\n",
      "  Using cached filelock-3.12.4-py3-none-any.whl (11 kB)\n",
      "Requirement already satisfied: sympy in c:\\python310\\lib\\site-packages (from torch->easyocr) (1.12)\n",
      "Requirement already satisfied: typing-extensions in c:\\python310\\lib\\site-packages (from torch->easyocr) (4.8.0)\n",
      "Requirement already satisfied: jinja2 in c:\\python310\\lib\\site-packages (from torch->easyocr) (3.1.2)\n",
      "Requirement already satisfied: MarkupSafe>=2.0 in c:\\python310\\lib\\site-packages (from jinja2->torch->easyocr) (2.1.3)\n",
      "Requirement already satisfied: six in c:\\users\\user\\appdata\\roaming\\python\\python310\\site-packages (from python-bidi->easyocr) (1.16.0)\n",
      "Requirement already satisfied: urllib3<3,>=1.21.1 in c:\\python310\\lib\\site-packages (from requests->torchvision>=0.5->easyocr) (1.26.8)\n",
      "Requirement already satisfied: certifi>=2017.4.17 in c:\\python310\\lib\\site-packages (from requests->torchvision>=0.5->easyocr) (2023.7.22)\n",
      "Requirement already satisfied: idna<4,>=2.5 in c:\\python310\\lib\\site-packages (from requests->torchvision>=0.5->easyocr) (3.3)\n",
      "Requirement already satisfied: charset-normalizer<4,>=2 in c:\\python310\\lib\\site-packages (from requests->torchvision>=0.5->easyocr) (2.0.10)\n",
      "Collecting imageio>=2.27\n",
      "  Using cached imageio-2.31.5-py3-none-any.whl (313 kB)\n",
      "Collecting tifffile>=2022.8.12\n",
      "  Using cached tifffile-2023.9.26-py3-none-any.whl (222 kB)\n",
      "Collecting lazy_loader>=0.3\n",
      "  Using cached lazy_loader-0.3-py3-none-any.whl (9.1 kB)\n",
      "Requirement already satisfied: packaging>=21 in c:\\users\\user\\appdata\\roaming\\python\\python310\\site-packages (from scikit-image->easyocr) (23.1)\n",
      "Requirement already satisfied: mpmath>=0.19 in c:\\python310\\lib\\site-packages (from sympy->torch->easyocr) (1.3.0)\n",
      "Installing collected packages: Pillow, networkx, fsspec, filelock, torch, tifffile, scipy, lazy-loader, imageio, torchvision, Shapely, scikit-image, python-bidi, pyclipper, opencv-python-headless, ninja, easyocr\n"
     ]
    },
    {
     "name": "stderr",
     "output_type": "stream",
     "text": [
      "ERROR: Could not install packages due to an OSError: [WinError 5] Access is denied: 'C:\\\\Python310\\\\share\\\\doc'\n",
      "Consider using the `--user` option or check the permissions.\n",
      "\n",
      "WARNING: You are using pip version 21.2.4; however, version 23.2.1 is available.\n",
      "You should consider upgrading via the 'C:\\Python310\\python.exe -m pip install --upgrade pip' command.\n"
     ]
    }
   ],
   "source": [
    "#!pip install easyocr\n"
   ]
  },
  {
   "cell_type": "code",
   "execution_count": 16,
   "id": "ecef6be9-49b5-47eb-a090-832e2e9e295f",
   "metadata": {},
   "outputs": [],
   "source": [
    "import matplotlib.pyplot as plt\n",
    "import cv2\n",
    "import easyocr\n",
    "from IPython.display import Image"
   ]
  },
  {
   "cell_type": "code",
   "execution_count": 17,
   "id": "2df0737c-d4d7-4699-acf6-6876bf3ebea0",
   "metadata": {},
   "outputs": [
    {
     "data": {
      "image/jpeg": "[encoded data removed]",
      "text/plain": [
       "<IPython.core.display.Image object>"
      ]
     },
     "execution_count": 17,
     "metadata": {},
     "output_type": "execute_result"
    }
   ],
   "source": [
    "# Image(\"/scaned_img_6.jpg\")\n",
    "Image(\"C:/Users/USER/Desktop/Number plate/plates/scaned_img_6.jpg\")\n"
   ]
  },
  {
   "cell_type": "code",
   "execution_count": 18,
   "id": "0dd76a10-fac3-4ec9-808e-c49540fa703f",
   "metadata": {},
   "outputs": [
    {
     "name": "stderr",
     "output_type": "stream",
     "text": [
      "Neither CUDA nor MPS are available - defaulting to CPU. Note: This module is much faster with a GPU.\n"
     ]
    }
   ],
   "source": [
    "reader = easyocr.Reader(['en'])\n"
   ]
  },
  {
   "cell_type": "code",
   "execution_count": 20,
   "id": "c9b702e0-6b92-4358-8053-12fe08fd33a7",
   "metadata": {},
   "outputs": [],
   "source": [
    "output = reader.readtext('C:/Users/USER/Desktop/Number plate/plates/scaned_img_6.jpg')\n"
   ]
  },
  {
   "cell_type": "code",
   "execution_count": 22,
   "id": "3bb11736-a375-4f2a-a9fa-0c6dfff39ad1",
   "metadata": {},
   "outputs": [
    {
     "data": {
      "text/plain": [
       "[([[16, 4], [79, 4], [79, 31], [16, 31]], 'MLYY', 0.4798586368560791)]"
      ]
     },
     "execution_count": 22,
     "metadata": {},
     "output_type": "execute_result"
    }
   ],
   "source": [
    "output"
   ]
  },
  {
   "cell_type": "code",
   "execution_count": 23,
   "id": "66798245-4ca4-4e8c-a302-304f5897f6b7",
   "metadata": {},
   "outputs": [],
   "source": [
    "cord = output[-1][0]\n"
   ]
  },
  {
   "cell_type": "code",
   "execution_count": 24,
   "id": "33ef55e4-6a07-4ac1-8ca8-ef838783e2c6",
   "metadata": {},
   "outputs": [
    {
     "data": {
      "text/plain": [
       "[[16, 4], [79, 4], [79, 31], [16, 31]]"
      ]
     },
     "execution_count": 24,
     "metadata": {},
     "output_type": "execute_result"
    }
   ],
   "source": [
    "cord"
   ]
  },
  {
   "cell_type": "code",
   "execution_count": 25,
   "id": "d83594ff-1acc-401b-bb02-7bdf372df6d4",
   "metadata": {},
   "outputs": [
    {
     "data": {
      "text/plain": [
       "[(16, 79, 79, 16), (4, 4, 31, 31)]"
      ]
     },
     "execution_count": 25,
     "metadata": {},
     "output_type": "execute_result"
    }
   ],
   "source": [
    "\n",
    "a = list(zip(*cord))\n",
    "a"
   ]
  },
  {
   "cell_type": "code",
   "execution_count": 26,
   "id": "eb8ada58-fdbb-4db6-8c87-15e644da3678",
   "metadata": {},
   "outputs": [
    {
     "data": {
      "text/plain": [
       "16"
      ]
     },
     "execution_count": 26,
     "metadata": {},
     "output_type": "execute_result"
    }
   ],
   "source": [
    "min(a[0])\n"
   ]
  },
  {
   "cell_type": "code",
   "execution_count": 27,
   "id": "1f823f16-c4dd-425c-a3bd-da8456517337",
   "metadata": {},
   "outputs": [
    {
     "data": {
      "text/plain": [
       "4"
      ]
     },
     "execution_count": 27,
     "metadata": {},
     "output_type": "execute_result"
    }
   ],
   "source": [
    "min(a[1])\n"
   ]
  },
  {
   "cell_type": "code",
   "execution_count": 28,
   "id": "de3ae02e-d456-46b2-9554-4741d642a6ea",
   "metadata": {},
   "outputs": [
    {
     "data": {
      "text/plain": [
       "79"
      ]
     },
     "execution_count": 28,
     "metadata": {},
     "output_type": "execute_result"
    }
   ],
   "source": [
    "max(a[0])\n"
   ]
  },
  {
   "cell_type": "code",
   "execution_count": 29,
   "id": "88503a41-d5ae-46c5-b195-990a5837931a",
   "metadata": {},
   "outputs": [
    {
     "data": {
      "text/plain": [
       "31"
      ]
     },
     "execution_count": 29,
     "metadata": {},
     "output_type": "execute_result"
    }
   ],
   "source": [
    "max(a[1])\n"
   ]
  },
  {
   "cell_type": "code",
   "execution_count": 30,
   "id": "3692d1e8-3a26-4dfa-a660-e0472df1e216",
   "metadata": {},
   "outputs": [],
   "source": [
    "x_min, y_min = [int(min(idx)) for idx in zip(*cord)]\n"
   ]
  },
  {
   "cell_type": "code",
   "execution_count": 31,
   "id": "4da701d1-3763-4da6-b542-61a15f8c866a",
   "metadata": {},
   "outputs": [
    {
     "data": {
      "text/plain": [
       "(16, 4)"
      ]
     },
     "execution_count": 31,
     "metadata": {},
     "output_type": "execute_result"
    }
   ],
   "source": [
    "x_min, y_min\n"
   ]
  },
  {
   "cell_type": "code",
   "execution_count": 32,
   "id": "01a786b8-bbe5-486f-b2b2-a378da16a7c2",
   "metadata": {},
   "outputs": [],
   "source": [
    "x_max, y_max = [int(max(idx)) for idx in zip(*cord)]\n"
   ]
  },
  {
   "cell_type": "code",
   "execution_count": 33,
   "id": "efd4310a-57d6-49f4-a208-1bf47f1dfd46",
   "metadata": {},
   "outputs": [
    {
     "data": {
      "text/plain": [
       "(79, 31)"
      ]
     },
     "execution_count": 33,
     "metadata": {},
     "output_type": "execute_result"
    }
   ],
   "source": [
    "x_max, y_max\n"
   ]
  },
  {
   "cell_type": "code",
   "execution_count": null,
   "id": "bca16de5-b91e-4f9f-adde-104a4eba4f7c",
   "metadata": {},
   "outputs": [],
   "source": []
  }
 ],
 "metadata": {
  "kernelspec": {
   "display_name": "Python 3 (ipykernel)",
   "language": "python",
   "name": "python3"
  },
  "language_info": {
   "codemirror_mode": {
    "name": "ipython",
    "version": 3
   },
   "file_extension": ".py",
   "mimetype": "text/x-python",
   "name": "python",
   "nbconvert_exporter": "python",
   "pygments_lexer": "ipython3",
   "version": "3.10.1"
  }
 },
 "nbformat": 4,
 "nbformat_minor": 5
}
